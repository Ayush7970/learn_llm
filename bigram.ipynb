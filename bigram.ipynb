{
 "cells": [
  {
   "cell_type": "code",
   "execution_count": 3,
   "metadata": {},
   "outputs": [
    {
     "name": "stdout",
     "output_type": "stream",
     "text": [
      "cpu\n"
     ]
    }
   ],
   "source": [
    "import torch\n",
    "import torch.nn as nn\n",
    "from torch.nn import functional as F\n",
    "\n",
    "# Set device based on availability\n",
    "device = 'mps' if torch.cuda.is_available() else 'cpu'\n",
    "print(device)\n",
    "\n",
    "# Hyperparameters\n",
    "block_size = 8\n",
    "batch_size = 4\n",
    "max_steps = 1000\n",
    "learning_rate = 3e-4\n",
    "eval_interval = 250\n",
    "num_eval_steps = 250"
   ]
  },
  {
   "cell_type": "markdown",
   "metadata": {},
   "source": []
  },
  {
   "cell_type": "code",
   "execution_count": 6,
   "metadata": {},
   "outputs": [],
   "source": [
    "with open('wizard_of_oz.txt', 'r', encoding='utf-8') as f:\n",
    "    text_data = f.read()\n",
    "\n",
    "# Process characters\n",
    "unique_chars = sorted(set(text_data))\n",
    "vocab_size = len(unique_chars)\n",
    "\n",
    "    "
   ]
  },
  {
   "cell_type": "code",
   "execution_count": 8,
   "metadata": {},
   "outputs": [],
   "source": [
    "char_to_idx = {ch: i for i, ch in enumerate(unique_chars)}\n",
    "idx_to_char = {i: ch for i, ch in enumerate(unique_chars)}\n",
    "\n",
    "# Encode and decode functions\n",
    "encode = lambda s: [char_to_idx[c] for c in s]\n",
    "decode = lambda l: ''.join([idx_to_char[i] for i in l])\n",
    "\n",
    "# Convert text to tensor data\n",
    "data_tensor = torch.tensor(encode(text_data), dtype=torch.long)\n",
    "\n",
    "    "
   ]
  },
  {
   "cell_type": "code",
   "execution_count": 10,
   "metadata": {},
   "outputs": [
    {
     "name": "stdout",
     "output_type": "stream",
     "text": [
      "Input batch:\n",
      "tensor([[74,  1, 54, 60, 54, 62, 67,  9],\n",
      "        [62, 73,  0, 62, 72,  1, 73, 61],\n",
      "        [73, 62, 79, 58, 67, 72, 11,  3],\n",
      "        [68, 59,  1, 54,  1, 60, 71, 58]])\n",
      "Target batch:\n",
      "tensor([[ 1, 54, 60, 54, 62, 67,  9,  1],\n",
      "        [73,  0, 62, 72,  1, 73, 61, 58],\n",
      "        [62, 79, 58, 67, 72, 11,  3,  0],\n",
      "        [59,  1, 54,  1, 60, 71, 58, 54]])\n"
     ]
    }
   ],
   "source": [
    "train_split = int(0.8 * len(data_tensor))\n",
    "train_data = data_tensor[:train_split]\n",
    "val_data = data_tensor[train_split:]\n",
    "\n",
    "def get_batch(data_type):\n",
    "    data = train_data if data_type == 'train' else val_data\n",
    "    indices = torch.randint(len(data) - block_size, (batch_size,))\n",
    "    x_batch = torch.stack([data[i:i + block_size] for i in indices])\n",
    "    y_batch = torch.stack([data[i + 1:i + block_size + 1] for i in indices])\n",
    "    return x_batch.to(device), y_batch.to(device)\n",
    "\n",
    "x_batch, y_batch = get_batch('train')\n",
    "print('Input batch:')\n",
    "print(x_batch)\n",
    "print('Target batch:')\n",
    "print(y_batch)\n",
    "\n"
   ]
  },
  {
   "cell_type": "code",
   "execution_count": 12,
   "metadata": {},
   "outputs": [],
   "source": [
    "@torch.no_grad()\n",
    "def compute_loss():\n",
    "    losses = {}\n",
    "    model.eval()\n",
    "    for phase in ['train', 'val']:\n",
    "        batch_losses = torch.zeros(num_eval_steps)\n",
    "        for i in range(num_eval_steps):\n",
    "            x_batch, y_batch = get_batch(phase)\n",
    "            _, loss = model(x_batch, y_batch)\n",
    "            batch_losses[i] = loss.item()\n",
    "        losses[phase] = batch_losses.mean()\n",
    "    model.train()\n",
    "    return losses"
   ]
  },
  {
   "cell_type": "code",
   "execution_count": 14,
   "metadata": {},
   "outputs": [],
   "source": [
    "class BigramLanguageModel(nn.Module):\n",
    "    def __init__(self, vocab_size):\n",
    "        super().__init__()\n",
    "        self.embedding_table = nn.Embedding(vocab_size, vocab_size)\n",
    "        \n",
    "    def forward(self, input_idx, target_idx=None):\n",
    "        logits = self.embedding_table(input_idx)\n",
    "        loss = None\n",
    "        if target_idx is not None:\n",
    "            B, T, C = logits.shape\n",
    "            logits = logits.view(B * T, C)\n",
    "            target_idx = target_idx.view(B * T)\n",
    "            loss = F.cross_entropy(logits, target_idx)\n",
    "        return logits, loss\n",
    "    \n",
    "    def generate(self, input_idx, num_tokens):\n",
    "        for _ in range(num_tokens):\n",
    "            logits, _ = self(input_idx)\n",
    "            logits = logits[:, -1, :]\n",
    "            probs = F.softmax(logits, dim=-1)\n",
    "            next_idx = torch.multinomial(probs, num_samples=1)\n",
    "            input_idx = torch.cat((input_idx, next_idx), dim=1)\n",
    "        return input_idx\n",
    "    "
   ]
  },
  {
   "cell_type": "code",
   "execution_count": 16,
   "metadata": {},
   "outputs": [
    {
     "name": "stdout",
     "output_type": "stream",
     "text": [
      "\n",
      "5E&mu*lPAT-coZO79,2bR[ ssG6L2DeLV,Il?8U?u2dT!Juk4nZJ4.G&W-UE4!TS1XxoT),OZWp5.[*AODLAQvF&-I:3iS6:8sXI*FQgrxZ\n",
      "iVbGK-&yeh.xbdd2Xbwa1\":Qy!:f [Im)h6rkTSz('qSsq kdij]hJ730 *n_w(sUnJG?Z?us;xoCKm!IWFer1Ul sZKW&FACyHt:dIjt8t-&7IzI]:)p.WOwrQ]YIT?I8yZTSsYT!S,v-U_LDSkGoHeh7'\n",
      "(LRUhyvL2DWP*LJurBB,3[kj8sUowZ*'i\"YvXC4yKRC4yW.OmrQ_Ku-N :6g2ANgoOyJMQUt:OEJ2_aYi:)?bOb.Ti]0j-*SBd4gof\"v,6n;;:OTMqWre557\n",
      "o*ic_8dP_f*;Ij9oRfn)y0yguev8U'N\n",
      "oQN):QUANUDS.TSsx,jd2d'C5?l_yyN8N'N\n",
      "X'gYP;CibW\"9rzDE[kQ[dIdnQr1w?i&!ux;c36CowujOQ[Z\n",
      "Step: 0, Train Loss: 4.963, Val Loss: 4.980\n",
      "Step: 250, Train Loss: 4.879, Val Loss: 4.919\n",
      "Step: 500, Train Loss: 4.799, Val Loss: 4.848\n",
      "Step: 750, Train Loss: 4.764, Val Loss: 4.774\n",
      "4.746335983276367\n"
     ]
    }
   ],
   "source": [
    "model = BigramLanguageModel(vocab_size)\n",
    "model = model.to(device)\n",
    "\n",
    "# Generate initial context\n",
    "context = torch.zeros((1, 1), dtype=torch.long, device=device)\n",
    "generated_text = decode(model.generate(context, num_tokens=500)[0].tolist())\n",
    "print(generated_text)\n",
    "\n",
    "# Setup optimizer\n",
    "optimizer = torch.optim.AdamW(model.parameters(), lr=learning_rate)\n",
    "\n",
    "# Training loop\n",
    "for step in range(max_steps):\n",
    "    if step % eval_interval == 0:\n",
    "        current_losses = compute_loss()\n",
    "        print(f\"Step: {step}, Train Loss: {current_losses['train']:.3f}, Val Loss: {current_losses['val']:.3f}\")\n",
    "\n",
    "    x_batch, y_batch = get_batch('train')\n",
    "    logits, loss = model(x_batch, y_batch)\n",
    "    optimizer.zero_grad(set_to_none=True)\n",
    "    loss.backward()\n",
    "    optimizer.step()\n",
    "print(loss.item())\n",
    "\n"
   ]
  },
  {
   "cell_type": "code",
   "execution_count": 17,
   "metadata": {},
   "outputs": [
    {
     "name": "stdout",
     "output_type": "stream",
     "text": [
      "\n",
      "(:! GJ219TDwW(YU.C0X'Ijs&J2d\"(q&anqteItrimO7:ZqWL,6,-U vd \"x2,j1,(cv;*BY()]C4U_J0E&SAF&8jeR7wlj_D9uID k0EpeEqSFtrSIjWj1uzvO;;gyqqhh*F\n",
      "LVt:L2ks:twmC8D)Rwpeo.gPWcOr1UA oCDwa98zAnRyN)zayxx-EJASQV-DivWJ0Nh!XYIj'[h*bB'\n",
      "(m)uspmbUIj-WHqu :.gNj.f7EJWK.fnMX,bdo1a\n",
      "V[v O B9xY G-XKf :EkPcrqcB]ZK_wIS S\"50O:!Sz2TtkLs:OQTP?I*Kl_\n",
      "wZUSIW:) Y65o!CBlo6\"Qw?uw\n",
      "(kbXOvLpAl\"?K6PnUDQXat,mT&Ma*\"99uAwrrt\n",
      ":Lc*6T!*xn5CjkPguZy\n",
      "nwr&\"y[!cwI;X']*]OVY;4P;cl;f\n",
      "ogD&W5xYoO(LGUIEn98lxTSw7W.8dgomda)JQcC:Pd\"LdNLV6;S\n",
      ";CTfJyHofr1\"GJsH&\n",
      "\n"
     ]
    }
   ],
   "source": [
    "\n",
    "# Generate final text\n",
    "context = torch.zeros((1, 1), dtype=torch.long, device=device)\n",
    "generated_text = decode(model.generate(context, num_tokens=500)[0].tolist())\n",
    "print(generated_text)"
   ]
  }
 ],
 "metadata": {
  "kernelspec": {
   "display_name": "cuda-gpt",
   "language": "python",
   "name": "cuda"
  },
  "language_info": {
   "codemirror_mode": {
    "name": "ipython",
    "version": 3
   },
   "file_extension": ".py",
   "mimetype": "text/x-python",
   "name": "python",
   "nbconvert_exporter": "python",
   "pygments_lexer": "ipython3",
   "version": "3.12.4"
  }
 },
 "nbformat": 4,
 "nbformat_minor": 4
}
